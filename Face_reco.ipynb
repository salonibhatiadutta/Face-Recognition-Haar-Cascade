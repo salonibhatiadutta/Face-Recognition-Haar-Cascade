{
 "cells": [
  {
   "cell_type": "code",
   "execution_count": null,
   "metadata": {},
   "outputs": [],
   "source": [
    "# importing the libraries"
   ]
  },
  {
   "cell_type": "code",
   "execution_count": 1,
   "metadata": {},
   "outputs": [],
   "source": [
    "\n",
    "import cv2\n",
    "import numpy as np\n"
   ]
  },
  {
   "cell_type": "code",
   "execution_count": 18,
   "metadata": {},
   "outputs": [],
   "source": [
    "# reding the video file\n",
    "cap=cv2.VideoCapture('faces.mp4')\n",
    "\n",
    "#checking if video file is correctly opening\n",
    "if(cap.isOpened()==False):\n",
    "    print(\"error opening video file\")\n",
    "\n",
    "#using Haar Classifier for facial recognition\n",
    "face=cv2.CascadeClassifier('haarcascade_frontalface_default.xml')\n",
    "\n",
    "# capturing the default resolution of frames to write in directory\n",
    "frame_width = int(cap.get(3))\n",
    "frame_height = int(cap.get(4))\n",
    "\n",
    "# writting the output video file using video writer and 4 codec with resolution stored earlier\n",
    "out = cv2.VideoWriter('output_faces.avi',cv2.VideoWriter_fourcc('M','J','P','G'), 10, (frame_width,frame_height))\n",
    "\n",
    "while(cap.isOpened()):\n",
    "   \n",
    "    ret,frame=cap.read()  #reading the frames\n",
    "    gray=cv2.cvtColor(frame,cv2.COLOR_BGR2GRAY) # converting into grayscale frames\n",
    "    # using detectMultiscale to read the images of various sizes\n",
    "    faces_rec=face.detectMultiScale(gray,1.3,6,minSize=(10, 10),flags=cv2.CASCADE_SCALE_IMAGE)\n",
    "    font = cv2.FONT_HERSHEY_SIMPLEX  # deciding font type for writing text on frame\n",
    "    # using for loopfor making bounding box around the faces\n",
    "    for(x,y,w,h) in faces_rec:\n",
    "        count=cv2.rectangle(frame,(x,y),(x+w,y+h),(0,255,0),3)\n",
    "        # putting text on the frame for the no. of detected faces by taking the no of rows present in numpy array of frame\n",
    "        cv2.putText(frame,\"no. of faces:\"+str(faces_rec.shape[0]), (frame.shape[0],30), font, 1, (0, 255,0), 2)\n",
    "    \n",
    "    # writing on the frame\n",
    "    out.write(frame)\n",
    "    cv2.imshow('Frame',frame) # showing the frame\n",
    "    if cv2.waitKey(25)&0XFF==ord('t'):   # wait time for next frame or when keyboard key 't' will be pressed moving out of while loop\n",
    "            break\n",
    "# releasing the reading and writing vieo files\n",
    "cap.release()\n",
    "out.release()\n",
    "cv2.destroyAllWindows()"
   ]
  },
  {
   "cell_type": "code",
   "execution_count": 3,
   "metadata": {},
   "outputs": [
    {
     "name": "stdout",
     "output_type": "stream",
     "text": [
      "(360, 640, 3)\n"
     ]
    }
   ],
   "source": [
    "print(frame.shape)"
   ]
  },
  {
   "cell_type": "code",
   "execution_count": 4,
   "metadata": {},
   "outputs": [
    {
     "name": "stdout",
     "output_type": "stream",
     "text": [
      "360\n"
     ]
    }
   ],
   "source": [
    "print(frame.shape[0])"
   ]
  },
  {
   "cell_type": "code",
   "execution_count": 14,
   "metadata": {},
   "outputs": [
    {
     "name": "stdout",
     "output_type": "stream",
     "text": [
      "350 650\n"
     ]
    }
   ],
   "source": [
    "a,b=frame.shape[0]-10,\n",
    "print(a,b)"
   ]
  },
  {
   "cell_type": "code",
   "execution_count": null,
   "metadata": {},
   "outputs": [],
   "source": []
  }
 ],
 "metadata": {
  "kernelspec": {
   "display_name": "Python 3",
   "language": "python",
   "name": "python3"
  },
  "language_info": {
   "codemirror_mode": {
    "name": "ipython",
    "version": 3
   },
   "file_extension": ".py",
   "mimetype": "text/x-python",
   "name": "python",
   "nbconvert_exporter": "python",
   "pygments_lexer": "ipython3",
   "version": "3.7.4"
  }
 },
 "nbformat": 4,
 "nbformat_minor": 2
}
